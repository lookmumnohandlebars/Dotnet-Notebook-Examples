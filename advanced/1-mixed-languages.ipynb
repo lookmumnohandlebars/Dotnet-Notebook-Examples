{
 "cells": [
  {
   "cell_type": "markdown",
   "metadata": {},
   "source": [
    "# Multi-Language Support\n"
   ]
  },
  {
   "cell_type": "markdown",
   "metadata": {},
   "source": [
    "Polyglot Notebooks come with support for both C# and F# (but not VB)\n"
   ]
  },
  {
   "cell_type": "code",
   "execution_count": null,
   "metadata": {
    "dotnet_interactive": {
     "language": "fsharp"
    },
    "polyglot_notebook": {
     "kernelName": "fsharp"
    },
    "vscode": {
     "languageId": "polyglot-notebook"
    }
   },
   "outputs": [],
   "source": [
    "// F#\n",
    "let primes = [2; 3; 5; 7; 11; 13; 17]\n",
    "printf \"These are all the primes I have I swear: %A\" primes"
   ]
  },
  {
   "cell_type": "markdown",
   "metadata": {},
   "source": [
    "Alongside this we also have support for browser languages\n"
   ]
  },
  {
   "cell_type": "code",
   "execution_count": 1,
   "metadata": {
    "dotnet_interactive": {
     "language": "csharp"
    },
    "polyglot_notebook": {
     "kernelName": "csharp"
    },
    "vscode": {
     "languageId": "polyglot-notebook"
    }
   },
   "outputs": [
    {
     "data": {
      "text/html": [
       "<input type=\"range\" min=\"1\" max=\"100\" value=\"50\" class=\"slider\" id=\"mySlider\">\n",
       "<p>Value: <span id=\"sliderValue\"></span></p>\n",
       "<script>\n",
       "  var slider = document.getElementById(\"mySlider\");\n",
       "  var output = document.getElementById(\"sliderValue\");\n",
       "  output.innerHTML = slider.value;\n",
       "  slider.oninput = function() {\n",
       "    output.innerHTML = this.value;\n",
       "  }\n",
       "</script>"
      ]
     },
     "metadata": {},
     "output_type": "display_data"
    }
   ],
   "source": [
    "<input type=\"range\" min=\"1\" max=\"100\" value=\"50\" class=\"slider\" id=\"mySlider\">\n",
    "<p>Value: <span id=\"sliderValue\"></span></p>\n",
    "<script>\n",
    "  var slider = document.getElementById(\"mySlider\");\n",
    "  var output = document.getElementById(\"sliderValue\");\n",
    "  output.innerHTML = slider.value;\n",
    "  slider.oninput = function() {\n",
    "    output.innerHTML = this.value;\n",
    "  }\n",
    "</script>"
   ]
  },
  {
   "cell_type": "markdown",
   "metadata": {},
   "source": [
    "# Sharing Variables Cross-Language\n"
   ]
  },
  {
   "cell_type": "markdown",
   "metadata": {},
   "source": [
    "It is possible to share variables across code blocks in different languages.\n",
    "Using the syntax `#!set --value @csharp:TARGET_VARIABLE_NAME --name INPUT_VARIABLE_NAME` where `csharp` may be any supported language.\n"
   ]
  },
  {
   "cell_type": "code",
   "execution_count": null,
   "metadata": {
    "dotnet_interactive": {
     "language": "csharp"
    },
    "polyglot_notebook": {
     "kernelName": "csharp"
    },
    "vscode": {
     "languageId": "polyglot-notebook"
    }
   },
   "outputs": [],
   "source": [
    "var mySecretMessage = \"Buffalo Buffalo Buffalo Buffalo Buffalo Buffalo\";"
   ]
  },
  {
   "cell_type": "code",
   "execution_count": null,
   "metadata": {
    "dotnet_interactive": {
     "language": "javascript"
    },
    "polyglot_notebook": {
     "kernelName": "javascript"
    },
    "vscode": {
     "languageId": "polyglot-notebook"
    }
   },
   "outputs": [],
   "source": [
    "#!set --value @csharp:mySecretMessage --name secretMessageFromCSharp\n",
    "console.log(secretMessageFromCSharp)"
   ]
  },
  {
   "cell_type": "code",
   "execution_count": null,
   "metadata": {
    "dotnet_interactive": {
     "language": "fsharp"
    },
    "polyglot_notebook": {
     "kernelName": "fsharp"
    },
    "vscode": {
     "languageId": "polyglot-notebook"
    }
   },
   "outputs": [],
   "source": [
    "#!set --value @csharp:mySecretMessage --name secretMessageFromCSharp\n",
    "printf \"From CSharp: %s\" secretMessageFromCSharp"
   ]
  },
  {
   "cell_type": "markdown",
   "metadata": {},
   "source": [
    "# Switching Kernels In A Cell\n"
   ]
  },
  {
   "cell_type": "code",
   "execution_count": null,
   "metadata": {
    "dotnet_interactive": {
     "language": "csharp"
    },
    "polyglot_notebook": {
     "kernelName": "csharp"
    },
    "vscode": {
     "languageId": "polyglot-notebook"
    }
   },
   "outputs": [],
   "source": [
    "#!csharp\n",
    "\"I'm CSharp\".Display();\n",
    "\n",
    "#!fsharp\n",
    "printf \"And that's why nobody likes you.\"\n",
    "\n",
    "#!javascript\n",
    "console.log(\"What about your ole buddy JavaScript?\")\n",
    "\n",
    "#!html\n",
    "<div> We wish you'd never been born </div> "
   ]
  },
  {
   "cell_type": "markdown",
   "metadata": {},
   "source": [
    "# Using External Kernels\n"
   ]
  },
  {
   "cell_type": "code",
   "execution_count": 2,
   "metadata": {
    "dotnet_interactive": {
     "language": "csharp"
    },
    "polyglot_notebook": {
     "kernelName": "csharp"
    },
    "vscode": {
     "languageId": "polyglot-notebook"
    }
   },
   "outputs": [
    {
     "data": {
      "text/markdown": [
       "The `#!connect jupyter` feature is in preview. Please report any feedback or issues at https://github.com/dotnet/interactive/issues/new/choose."
      ]
     },
     "metadata": {},
     "output_type": "display_data"
    },
    {
     "data": {
      "text/plain": [
       "Kernel added: #!denokernel"
      ]
     },
     "metadata": {},
     "output_type": "display_data"
    }
   ],
   "source": [
    "#!connect jupyter --kernel-name denokernel --kernel-spec deno"
   ]
  },
  {
   "cell_type": "code",
   "execution_count": 3,
   "metadata": {
    "dotnet_interactive": {
     "language": "csharp"
    },
    "polyglot_notebook": {
     "kernelName": "csharp"
    },
    "vscode": {
     "languageId": "polyglot-notebook"
    }
   },
   "outputs": [
    {
     "data": {
      "text/plain": [
       "City { name: \u001b[32m\"Berlin\"\u001b[39m, country: \u001b[32m\"Germany\"\u001b[39m }"
      ]
     },
     "metadata": {},
     "output_type": "display_data"
    }
   ],
   "source": [
    "class City {\n",
    "    constructor(public name: string, public country: string) { }\n",
    "}\n",
    "new City(\"Berlin\", \"Germany\");"
   ]
  }
 ],
 "metadata": {
  "kernelspec": {
   "display_name": ".NET (C#)",
   "language": "C#",
   "name": ".net-csharp"
  },
  "language_info": {
   "name": "python"
  },
  "polyglot_notebook": {
   "kernelInfo": {
    "defaultKernelName": "csharp",
    "items": [
     {
      "aliases": [],
      "name": "csharp"
     }
    ]
   }
  }
 },
 "nbformat": 4,
 "nbformat_minor": 2
}
