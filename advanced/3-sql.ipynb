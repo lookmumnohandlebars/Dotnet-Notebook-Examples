{
 "cells": [
  {
   "cell_type": "code",
   "execution_count": 32,
   "metadata": {
    "dotnet_interactive": {
     "language": "pwsh"
    },
    "polyglot_notebook": {
     "kernelName": "pwsh"
    },
    "vscode": {
     "languageId": "polyglot-notebook"
    }
   },
   "outputs": [
    {
     "name": "stdout",
     "output_type": "stream",
     "text": [
      "\u001b[31;1m Network advanced_default  Creating\u001b[0m\n",
      "\u001b[31;1m Network advanced_default  Created\u001b[0m\n",
      "\u001b[31;1m Container sql-server-db  Creating\u001b[0m\n",
      "\u001b[31;1m Container sql-server-db  Created\u001b[0m\n",
      "\u001b[31;1m Container sql-server-db  Starting\u001b[0m\n",
      "\u001b[31;1m Container sql-server-db  Started\u001b[0m\n"
     ]
    }
   ],
   "source": [
    "docker-compose up -d"
   ]
  },
  {
   "cell_type": "code",
   "execution_count": 33,
   "metadata": {
    "dotnet_interactive": {
     "language": "csharp"
    },
    "polyglot_notebook": {
     "kernelName": "csharp"
    },
    "vscode": {
     "languageId": "polyglot-notebook"
    }
   },
   "outputs": [
    {
     "data": {
      "text/html": [
       "<div><div></div><div></div><div><strong>Installed Packages</strong><ul><li><span>Microsoft.DotNet.Interactive.SqlServer, 1.0.0-beta.24229.4</span></li></ul></div></div>"
      ]
     },
     "metadata": {},
     "output_type": "display_data"
    }
   ],
   "source": [
    "#r \"nuget: Microsoft.DotNet.Interactive.SqlServer, *-*\""
   ]
  },
  {
   "cell_type": "code",
   "execution_count": 25,
   "metadata": {
    "dotnet_interactive": {
     "language": "csharp"
    },
    "polyglot_notebook": {
     "kernelName": "csharp"
    },
    "vscode": {
     "languageId": "polyglot-notebook"
    }
   },
   "outputs": [
    {
     "data": {
      "text/plain": [
       "Kernel added: #!sql-test-db"
      ]
     },
     "metadata": {},
     "output_type": "display_data"
    }
   ],
   "source": [
    "#!connect mssql \"Server=127.0.0.1,1433;User Id=SA;Password=Je!!yBaB13S;TrustServerCertificate=true\" --kernel-name test-db"
   ]
  },
  {
   "cell_type": "code",
   "execution_count": 37,
   "metadata": {
    "dotnet_interactive": {
     "language": "sql-test-db"
    },
    "polyglot_notebook": {
     "kernelName": "sql-test-db"
    },
    "vscode": {
     "languageId": "polyglot-notebook"
    }
   },
   "outputs": [
    {
     "data": {
      "text/plain": [
       "(1 row affected)"
      ]
     },
     "metadata": {},
     "output_type": "display_data"
    }
   ],
   "source": [
    "IF NOT EXISTS(SELECT * FROM sysobjects WHERE name='Fishes') \n",
    "BEGIN\n",
    "    CREATE TABLE Fishes (\n",
    "        FishID int NOT NULL PRIMARY KEY,\n",
    "        Species varchar(255),\n",
    "        Colour varchar(255)\n",
    "    );\n",
    "    INSERT INTO Fishes (FishID, Species, Colour)\n",
    "    VALUES (1, 'Clownfish', 'Orange/White');\n",
    "END"
   ]
  },
  {
   "cell_type": "code",
   "execution_count": 38,
   "metadata": {
    "dotnet_interactive": {
     "language": "sql-test-db"
    },
    "polyglot_notebook": {
     "kernelName": "sql-test-db"
    },
    "vscode": {
     "languageId": "polyglot-notebook"
    }
   },
   "outputs": [
    {
     "data": {
      "text/plain": [
       "(1 row affected)"
      ]
     },
     "metadata": {},
     "output_type": "display_data"
    },
    {
     "data": {
      "text/csv": [
       "FishID,Species,Colour\r\n",
       "1,Clownfish,Orange/White\r\n"
      ],
      "text/html": [
       "<table><thead><tr><td><span>FishID</span></td><td><span>Species</span></td><td><span>Colour</span></td></tr></thead><tbody><tr><td><div class=\"dni-plaintext\"><pre>1</pre></div></td><td>Clownfish</td><td>Orange/White</td></tr></tbody></table><style>\r\n",
       ".dni-code-hint {\r\n",
       "    font-style: italic;\r\n",
       "    overflow: hidden;\r\n",
       "    white-space: nowrap;\r\n",
       "}\r\n",
       ".dni-treeview {\r\n",
       "    white-space: nowrap;\r\n",
       "}\r\n",
       ".dni-treeview td {\r\n",
       "    vertical-align: top;\r\n",
       "    text-align: start;\r\n",
       "}\r\n",
       "details.dni-treeview {\r\n",
       "    padding-left: 1em;\r\n",
       "}\r\n",
       "table td {\r\n",
       "    text-align: start;\r\n",
       "}\r\n",
       "table tr { \r\n",
       "    vertical-align: top; \r\n",
       "    margin: 0em 0px;\r\n",
       "}\r\n",
       "table tr td pre \r\n",
       "{ \r\n",
       "    vertical-align: top !important; \r\n",
       "    margin: 0em 0px !important;\r\n",
       "} \r\n",
       "table th {\r\n",
       "    text-align: start;\r\n",
       "}\r\n",
       "</style>"
      ]
     },
     "metadata": {},
     "output_type": "display_data"
    }
   ],
   "source": [
    "SELECT * FROM Fishes"
   ]
  },
  {
   "cell_type": "code",
   "execution_count": 31,
   "metadata": {
    "dotnet_interactive": {
     "language": "pwsh"
    },
    "polyglot_notebook": {
     "kernelName": "pwsh"
    },
    "vscode": {
     "languageId": "polyglot-notebook"
    }
   },
   "outputs": [
    {
     "name": "stdout",
     "output_type": "stream",
     "text": [
      "\u001b[31;1m Container sql-server-db  Stopping\u001b[0m\n",
      "\u001b[31;1m Container sql-server-db  Stopped\u001b[0m\n",
      "\u001b[31;1m Container sql-server-db  Removing\u001b[0m\n",
      "\u001b[31;1m Container sql-server-db  Removed\u001b[0m\n",
      "\u001b[31;1m Network advanced_default  Removing\u001b[0m\n",
      "\u001b[31;1m Network advanced_default  Removed\u001b[0m\n"
     ]
    }
   ],
   "source": [
    "docker-compose down"
   ]
  }
 ],
 "metadata": {
  "kernelspec": {
   "display_name": ".NET (C#)",
   "language": "C#",
   "name": ".net-csharp"
  },
  "language_info": {
   "name": "python"
  },
  "polyglot_notebook": {
   "kernelInfo": {
    "defaultKernelName": "csharp",
    "items": [
     {
      "aliases": [],
      "name": "csharp"
     }
    ]
   }
  }
 },
 "nbformat": 4,
 "nbformat_minor": 2
}
