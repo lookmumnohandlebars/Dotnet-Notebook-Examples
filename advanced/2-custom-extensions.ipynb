{
 "cells": [
  {
   "attachments": {},
   "cell_type": "markdown",
   "metadata": {},
   "source": [
    "# The `ClockExtension` Sample\n",
    "\n",
    "The `ClockExtension` sample walks you through how to create a simple .NET Interactive extension and then package it using NuGet.\n",
    "\n",
    "## 1. Build the project\n",
    "\n",
    "If you opened this notebook so that its working directory is in the `ClockExtension` project directory, then the following cell will work. Otherwise, you should first switch your working directory to the directory containing this notebook.\n"
   ]
  },
  {
   "cell_type": "code",
   "execution_count": 8,
   "metadata": {
    "dotnet_interactive": {
     "language": "pwsh"
    }
   },
   "outputs": [
    {
     "name": "stdout",
     "output_type": "stream",
     "text": [
      "\n",
      "\u001b[32;1mPath\u001b[0m\n",
      "\u001b[32;1m----\u001b[0m\n",
      "C:\\Users\\AlexanderJohnStuartH\\repos\\lookmumnohandlebars\\Dotnet-Notebook-Examples\\advanced\n",
      "MSBuild version 17.8.3+195e7f5a3 for .NET\n",
      "  Determining projects to restore...\n",
      "  All projects are up-to-date for restore.\n",
      "  OversimplifiedTypes -> C:\\Users\\AlexanderJohnStuartH\\repos\\lookmumnohandlebars\\Dotnet-Notebook-Examples\\UnderlyingLibraries\\OversimplifiedTypes\\bin\\Debug\\net8.0\\OversimplifiedTypes.dll\n",
      "  InteractiveAPI -> C:\\Users\\AlexanderJohnStuartH\\repos\\lookmumnohandlebars\\Dotnet-Notebook-Examples\\UnderlyingLibraries\\InteractiveAPI\\bin\\Debug\\net8.0\\InteractiveAPI.dll\n",
      "  ClockExtension -> C:\\Users\\AlexanderJohnStuartH\\repos\\lookmumnohandlebars\\Dotnet-Notebook-Examples\\UnderlyingLibraries\\ClockExtension\\bin\\Debug\\net8.0\\ClockExtension.dll\n",
      "\n",
      "Build succeeded.\n",
      "    0 Warning(s)\n",
      "    0 Error(s)\n",
      "\n",
      "Time Elapsed 00:00:18.93\n",
      "MSBuild version 17.8.3+195e7f5a3 for .NET\n",
      "  Determining projects to restore...\n",
      "  All projects are up-to-date for restore.\n",
      "C:\\Program Files\\dotnet\\sdk\\8.0.100\\Sdks\\NuGet.Build.Tasks.Pack\\build\\NuGet.Build.Tasks.Pack.targets(203,6): warning : This project cannot be packaged because packaging has been disabled. Add <IsPackable>true</IsPackable> to the project file to enable producing a package from this project. [C:\\Users\\AlexanderJohnStuartH\\repos\\lookmumnohandlebars\\Dotnet-Notebook-Examples\\UnderlyingLibraries\\InteractiveAPI\\InteractiveAPI.csproj]\n",
      "  OversimplifiedTypes -> C:\\Users\\AlexanderJohnStuartH\\repos\\lookmumnohandlebars\\Dotnet-Notebook-Examples\\UnderlyingLibraries\\OversimplifiedTypes\\bin\\Release\\net8.0\\OversimplifiedTypes.dll\n",
      "  ClockExtension -> C:\\Users\\AlexanderJohnStuartH\\repos\\lookmumnohandlebars\\Dotnet-Notebook-Examples\\UnderlyingLibraries\\ClockExtension\\bin\\Release\\net8.0\\ClockExtension.dll\n",
      "C:\\Program Files\\dotnet\\sdk\\8.0.100\\Sdks\\NuGet.Build.Tasks.Pack\\build\\NuGet.Build.Tasks.Pack.targets(221,5): warning NU5104: A stable release of a package should not have a prerelease dependency. Either modify the version spec of dependency \"microsoft.dotnet.interactive [1.0.0-beta.23562.1, )\" or update the version field in the nuspec. [C:\\Users\\AlexanderJohnStuartH\\repos\\lookmumnohandlebars\\Dotnet-Notebook-Examples\\UnderlyingLibraries\\ClockExtension\\ClockExtension.csproj]\n",
      "C:\\Program Files\\dotnet\\sdk\\8.0.100\\Sdks\\NuGet.Build.Tasks.Pack\\build\\NuGet.Build.Tasks.Pack.targets(221,5): warning NU5104: A stable release of a package should not have a prerelease dependency. Either modify the version spec of dependency \"microsoft.dotnet.interactive.csharp [1.0.0-beta.23562.1, )\" or update the version field in the nuspec. [C:\\Users\\AlexanderJohnStuartH\\repos\\lookmumnohandlebars\\Dotnet-Notebook-Examples\\UnderlyingLibraries\\ClockExtension\\ClockExtension.csproj]\n",
      "  The package ClockExtension.1.0.0 is missing a readme. Go to https://aka.ms/nuget/authoring-best-practices/readme to learn why package readmes are important.\n",
      "  Successfully created package 'C:\\Users\\AlexanderJohnStuartH\\repos\\lookmumnohandlebars\\Dotnet-Notebook-Examples\\UnderlyingLibraries\\ClockExtension\\bin\\Release\\ClockExtension.1.0.0.nupkg'.\n",
      "\n",
      "\u001b[32;1mLastWriteTime : \u001b[0m7/15/2024 5:30:14 PM\n",
      "\u001b[32;1mLength        : \u001b[0m9168\n",
      "\u001b[32;1mName          : \u001b[0mClockExtension.1.0.0.nupkg\n",
      "\n",
      "\n"
     ]
    },
    {
     "ename": "Error",
     "evalue": "Command failed: SubmitCode: # 1. Build the project ...",
     "output_type": "error",
     "traceback": [
      "Command failed: SubmitCode: # 1. Build the project ..."
     ]
    }
   ],
   "source": [
    "# 1. Build the project\n",
    "pwd\n",
    "cd ../UnderlyingLibraries\n",
    "dotnet build -p ClockExtension\n",
    "\n",
    "# Clear any older versions of this extension package from your NuGet cache\n",
    "rm ~/.nuget/packages/ClockExtension -Force -Recurse -ErrorAction Ignore\n",
    "\n",
    "# Pack up the NuGet package. \n",
    "dotnet pack -p ClockExtension /p:PackageVersion=1.0.0\n",
    "\n",
    "# 3. Check that the package is there\n",
    "Get-ChildItem -Recurse ClockExtension*.nupkg\n",
    "cd ../advanced"
   ]
  },
  {
   "attachments": {},
   "cell_type": "markdown",
   "metadata": {},
   "source": [
    "## 2. Load the NuGet package\n",
    "\n",
    "Now we're ready to install the extension that packaged up in the NuGet package we just built. We can use the [`#i` directive](https://github.com/dotnet/interactive/blob/main/docs/nuget-overview.md) to add the build output folder to our NuGet sources.\n",
    "\n",
    "First, let's make sure the file is there like we expect after the build.\n"
   ]
  },
  {
   "cell_type": "code",
   "execution_count": 9,
   "metadata": {
    "dotnet_interactive": {
     "language": "csharp"
    },
    "polyglot_notebook": {
     "kernelName": "csharp"
    }
   },
   "outputs": [
    {
     "data": {
      "text/plain": [
       "✅ The package is there!"
      ]
     },
     "metadata": {},
     "output_type": "display_data"
    }
   ],
   "source": [
    "using System.IO;\n",
    "\n",
    "// Create an absolute path since #i doesn't like \n",
    "var debugOutputFolder = new DirectoryInfo(@\"..\\UnderlyingLibraries\\ClockExtension\\bin\\Release\\\").FullName;\n",
    "\n",
    "if (File.Exists(Path.Combine(debugOutputFolder, \"ClockExtension.1.0.0.nupkg\")))\n",
    "{\n",
    "    \"✅ The package is there!\".Display();\n",
    "} \n",
    "else\n",
    "{\n",
    "    \"❌ Something must have gone wrong with the build. The package isn't there.\".Display();\n",
    "}\n",
    "\n",
    "var nugetSource = $\"nuget:{debugOutputFolder}\";"
   ]
  },
  {
   "attachments": {},
   "cell_type": "markdown",
   "metadata": {},
   "source": [
    "If the package is there, we can include its location as a NuGet source using the `#i` directive. The following syntax shares the `#i` argument including the `nuget:` prefix and the computed fully-qualified path.\n"
   ]
  },
  {
   "cell_type": "code",
   "execution_count": 3,
   "metadata": {
    "dotnet_interactive": {
     "language": "csharp"
    },
    "polyglot_notebook": {
     "kernelName": "csharp"
    }
   },
   "outputs": [
    {
     "data": {
      "text/html": [
       "<div><div><strong>Restore sources</strong><ul><li><span>c:\\Users\\AlexanderJohnStuartH\\repos\\lookmumnohandlebars\\Dotnet-Notebook-Examples\\UnderlyingLibraries\\ClockExtension\\bin\\Release\\</span></li></ul></div><div></div><div></div></div>"
      ]
     },
     "metadata": {},
     "output_type": "display_data"
    }
   ],
   "source": [
    "#i @csharp:nugetSource"
   ]
  },
  {
   "attachments": {},
   "cell_type": "markdown",
   "metadata": {},
   "source": [
    "Now that the package source is added, we can use `#r` to install the package.\n"
   ]
  },
  {
   "cell_type": "code",
   "execution_count": 4,
   "metadata": {
    "dotnet_interactive": {
     "language": "csharp"
    }
   },
   "outputs": [
    {
     "data": {
      "text/html": [
       "<div><div><strong>Restore sources</strong><ul><li><span>c:\\Users\\AlexanderJohnStuartH\\repos\\lookmumnohandlebars\\Dotnet-Notebook-Examples\\UnderlyingLibraries\\ClockExtension\\bin\\Release\\</span></li></ul></div><div></div><div><strong>Installed Packages</strong><ul><li><span>ClockExtension, 1.0.0</span></li></ul></div></div>"
      ]
     },
     "metadata": {},
     "output_type": "display_data"
    },
    {
     "data": {
      "text/plain": [
       "Loading extension script from `C:\\Users\\AlexanderJohnStuartH\\.nuget\\packages\\clockextension\\1.0.0\\interactive-extensions\\dotnet\\extension.dib`"
      ]
     },
     "metadata": {},
     "output_type": "display_data"
    },
    {
     "data": {
      "text/html": [
       "<div><code>ClockExtension</code> is loaded. It adds visualizations for <code><span><a href=\"https://docs.microsoft.com/dotnet/api/system.datetime?view=net-7.0\">System.DateTime</a></span></code> and <code><span><a href=\"https://docs.microsoft.com/dotnet/api/system.datetimeoffset?view=net-7.0\">System.DateTimeOffset</a></span></code>. Try it by running: <code>DateTime.Now</code> or <code>#!clock -h</code></div>"
      ]
     },
     "metadata": {},
     "output_type": "display_data"
    }
   ],
   "source": [
    "#r \"nuget:ClockExtension,1.0.0\""
   ]
  },
  {
   "attachments": {},
   "cell_type": "markdown",
   "metadata": {},
   "source": [
    "## Try the extension\n",
    "\n",
    "As you can see from the output above, the extension is able to explain a bit about what it does. So now we can try it out.\n",
    "\n",
    "It adds a custom formatter for `System.DateTime`:\n"
   ]
  },
  {
   "cell_type": "code",
   "execution_count": 6,
   "metadata": {
    "dotnet_interactive": {
     "language": "csharp"
    }
   },
   "outputs": [
    {
     "data": {
      "text/html": [
       "<div id=\"clockExtension0496493aa5d344d4bf77d9909891442a\"><svg viewBox=\"0 0 40 40\"><defs><radialGradient id=\"grad1\" cx=\"50%\" cy=\"50%\" r=\"50%\" fx=\"50%\" fy=\"50%\"><stop offset=\"0%\" style=\"stop-color:#512bd4;stop-opacity:0\"></stop><stop offset=\"100%\" style=\"stop-color:#512bd4;stop-opacity:.5\"></stop></radialGradient></defs><circle cx=\"20\" cy=\"20\" r=\"19\" fill=\"#dedede\"></circle><circle cx=\"20\" cy=\"20\" r=\"19\" fill=\"url(#grad1)\"></circle><g class=\"marks\"><line x1=\"15\" y1=\"0\" x2=\"16\" y2=\"0\"></line><line x1=\"15\" y1=\"0\" x2=\"16\" y2=\"0\"></line><line x1=\"15\" y1=\"0\" x2=\"16\" y2=\"0\"></line><line x1=\"15\" y1=\"0\" x2=\"16\" y2=\"0\"></line><line x1=\"15\" y1=\"0\" x2=\"16\" y2=\"0\"></line><line x1=\"15\" y1=\"0\" x2=\"16\" y2=\"0\"></line><line x1=\"15\" y1=\"0\" x2=\"16\" y2=\"0\"></line><line x1=\"15\" y1=\"0\" x2=\"16\" y2=\"0\"></line><line x1=\"15\" y1=\"0\" x2=\"16\" y2=\"0\"></line><line x1=\"15\" y1=\"0\" x2=\"16\" y2=\"0\"></line><line x1=\"15\" y1=\"0\" x2=\"16\" y2=\"0\"></line><line x1=\"15\" y1=\"0\" x2=\"16\" y2=\"0\"></line></g><text x=\"0\" y=\"0\" class=\"text\">.NET Interactive</text><line x1=\"0\" y1=\"0\" x2=\"9\" y2=\"0\" class=\"hour\"></line><line x1=\"0\" y1=\"0\" x2=\"13\" y2=\"0\" class=\"minute\"></line><line x1=\"0\" y1=\"0\" x2=\"16\" y2=\"0\" class=\"seconds\"></line><circle cx=\"20\" cy=\"20\" r=\"0.7\" class=\"pin\"></circle></svg><style type=\"text/css\">\n",
       "#clockExtension0496493aa5d344d4bf77d9909891442a svg {\n",
       "  width: 400px;\n",
       "  fill: white;\n",
       "  stroke: black;\n",
       "  stroke-width: 1;\n",
       "  stroke-linecap: round;\n",
       "  transform: rotate(-90deg);\n",
       "  --start-seconds: 16;\n",
       "  --start-minutes: 26;\n",
       "  --start-hours: 5;\n",
       "}\n",
       "\n",
       "#clockExtension0496493aa5d344d4bf77d9909891442a .marks {\n",
       "  transform: translate(20px, 20px);\n",
       "  stroke-width: 0.2;\n",
       "}\n",
       "#clockExtension0496493aa5d344d4bf77d9909891442a .marks > line:nth-child(1) {\n",
       "  transform: rotate(30deg); \n",
       "}\n",
       "#clockExtension0496493aa5d344d4bf77d9909891442a .marks > line:nth-child(2) {\n",
       "  transform: rotate(calc(2 * 30deg));\n",
       "}\n",
       "#clockExtension0496493aa5d344d4bf77d9909891442a .marks > line:nth-child(3) {\n",
       "  transform: rotate(calc(3 * 30deg));\n",
       "  stroke-width: 0.5;\n",
       "}\n",
       "#clockExtension0496493aa5d344d4bf77d9909891442a .marks > line:nth-child(4) {\n",
       "  transform: rotate(calc(4 * 30deg));\n",
       "}\n",
       "#clockExtension0496493aa5d344d4bf77d9909891442a .marks > line:nth-child(5) {\n",
       "  transform: rotate(calc(5 * 30deg));\n",
       "}\n",
       "#clockExtension0496493aa5d344d4bf77d9909891442a .marks > line:nth-child(6) {\n",
       "  transform: rotate(calc(6 * 30deg));\n",
       "  stroke-width: 0.5;\n",
       "}\n",
       "#clockExtension0496493aa5d344d4bf77d9909891442a .marks > line:nth-child(7) {\n",
       "  transform: rotate(calc(7 * 30deg));\n",
       "}\n",
       "#clockExtension0496493aa5d344d4bf77d9909891442a .marks > line:nth-child(8) {\n",
       "  transform: rotate(calc(8 * 30deg));\n",
       "}\n",
       "#clockExtension0496493aa5d344d4bf77d9909891442a .marks > line:nth-child(9) {\n",
       "  transform: rotate(calc(9 * 30deg));\n",
       "  stroke-width: 0.5;\n",
       "}\n",
       "#clockExtension0496493aa5d344d4bf77d9909891442a .marks > line:nth-child(10) {\n",
       "  transform: rotate(calc(10 * 30deg));\n",
       "}\n",
       "#clockExtension0496493aa5d344d4bf77d9909891442a .marks > line:nth-child(11) {\n",
       "  transform: rotate(calc(11 * 30deg));\n",
       "}\n",
       "#clockExtension0496493aa5d344d4bf77d9909891442a .marks > line:nth-child(12) {\n",
       "  transform: rotate(calc(12 * 30deg));\n",
       "  stroke-width: 0.5;\n",
       "}\n",
       "#clockExtension0496493aa5d344d4bf77d9909891442a .seconds,\n",
       "#clockExtension0496493aa5d344d4bf77d9909891442a .minute,\n",
       "#clockExtension0496493aa5d344d4bf77d9909891442a .hour\n",
       "{\n",
       "  transform: translate(20px, 20px) rotate(0deg);\n",
       "}\n",
       "#clockExtension0496493aa5d344d4bf77d9909891442a .seconds {\n",
       "  stroke-width: 0.3;\n",
       "  stroke: #d00505;\n",
       "  transform: translate(20px, 20px) rotate(calc(var(--start-seconds) * 6deg));\n",
       "\n",
       "}\n",
       "#clockExtension0496493aa5d344d4bf77d9909891442a .minute {\n",
       "  stroke-width: 0.6;\n",
       "  transform: translate(20px, 20px) rotate(calc(var(--start-minutes) * 6deg));\n",
       "}\n",
       "#clockExtension0496493aa5d344d4bf77d9909891442a .hour {\n",
       "  stroke: #512bd4;\n",
       "  stroke-width: 1;\n",
       "  transform: translate(20px, 20px) rotate(calc(var(--start-hours) * 30deg));\n",
       "}\n",
       "#clockExtension0496493aa5d344d4bf77d9909891442a .pin {\n",
       "  stroke: #d00505;\n",
       "  stroke-width: 0.2;\n",
       "}\n",
       "#clockExtension0496493aa5d344d4bf77d9909891442a .text {\n",
       "  font-size: 2px;\n",
       "  font-family: \"Segoe UI\",Helvetica,Arial,sans-serif;\n",
       "  transform: rotate(90deg) translate(13.5px, -12px);\n",
       "  fill: #512bd4;\n",
       "  stroke: none;\n",
       "}</style><script>\n",
       "let svg = document.querySelector(&#39;svg&#39;);\n",
       "</script></div>"
      ]
     },
     "metadata": {},
     "output_type": "display_data"
    }
   ],
   "source": [
    "DateTime.Now"
   ]
  },
  {
   "cell_type": "markdown",
   "metadata": {},
   "source": [
    "The extension output also advised us to run `#!clock -h`. Extensions can add magic commands and all magic commands can provide help.\n"
   ]
  },
  {
   "cell_type": "code",
   "execution_count": null,
   "metadata": {
    "dotnet_interactive": {
     "language": "csharp"
    }
   },
   "outputs": [],
   "source": [
    "#!clock -h"
   ]
  },
  {
   "cell_type": "markdown",
   "metadata": {},
   "source": [
    "The `#!clock` magic command help explains how to use options to set the position of the hands on the clock:\n"
   ]
  },
  {
   "cell_type": "code",
   "execution_count": null,
   "metadata": {
    "dotnet_interactive": {
     "language": "csharp"
    }
   },
   "outputs": [],
   "source": [
    "#!clock --hour 12 -m 34 -s 56"
   ]
  }
 ],
 "metadata": {
  "kernelspec": {
   "display_name": ".NET (C#)",
   "language": "C#",
   "name": ".net-csharp"
  },
  "language_info": {
   "name": "polyglot-notebook"
  },
  "polyglot_notebook": {
   "kernelInfo": {
    "defaultKernelName": "csharp",
    "items": [
     {
      "aliases": [],
      "name": ".NET"
     },
     {
      "aliases": [
       "C#",
       "c#"
      ],
      "languageName": "C#",
      "name": "csharp"
     },
     {
      "aliases": [
       "F#",
       "f#"
      ],
      "languageName": "F#",
      "name": "fsharp"
     },
     {
      "aliases": [],
      "languageName": "HTML",
      "name": "html"
     },
     {
      "aliases": [],
      "languageName": "KQL",
      "name": "kql"
     },
     {
      "aliases": [],
      "languageName": "Mermaid",
      "name": "mermaid"
     },
     {
      "aliases": [
       "powershell"
      ],
      "languageName": "PowerShell",
      "name": "pwsh"
     },
     {
      "aliases": [],
      "languageName": "SQL",
      "name": "sql"
     },
     {
      "aliases": [],
      "name": "value"
     },
     {
      "aliases": [
       "frontend"
      ],
      "name": "vscode"
     }
    ]
   }
  }
 },
 "nbformat": 4,
 "nbformat_minor": 2
}
