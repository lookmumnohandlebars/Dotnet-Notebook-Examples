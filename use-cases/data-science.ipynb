{
  "cells": [
    {
      "cell_type": "markdown",
      "metadata": {},
      "source": [
        "# Data Science Example\n"
      ]
    },
    {
      "cell_type": "code",
      "execution_count": 1,
      "metadata": {
        "dotnet_interactive": {
          "language": "csharp"
        },
        "vscode": {
          "languageId": "polyglot-notebook"
        }
      },
      "outputs": [
        {
          "data": {
            "text/html": [
              "<div><div></div><div></div><div><strong>Installed Packages</strong><ul><li><span>DataView.InteractiveExtension, 1.0.140</span></li><li><span>Microsoft.Data.Analysis, 0.21.1</span></li><li><span>Microsoft.ML.DataView, 3.0.1</span></li><li><span>SandDance.InteractiveExtension, 1.0.140</span></li></ul></div></div>"
            ]
          },
          "metadata": {},
          "output_type": "display_data"
        },
        {
          "data": {
            "text/plain": [
              "Loading extension script from `C:\\Users\\AlexanderJohnStuartH\\.nuget\\packages\\dataview.interactiveextension\\1.0.140\\interactive-extensions\\dotnet\\extension.dib`"
            ]
          },
          "metadata": {},
          "output_type": "display_data"
        },
        {
          "data": {
            "text/plain": [
              "Loading extensions from `C:\\Users\\AlexanderJohnStuartH\\.nuget\\packages\\microsoft.data.analysis\\0.21.1\\interactive-extensions\\dotnet\\Microsoft.Data.Analysis.Interactive.dll`"
            ]
          },
          "metadata": {},
          "output_type": "display_data"
        },
        {
          "data": {
            "text/plain": [
              "Loading extension script from `C:\\Users\\AlexanderJohnStuartH\\.nuget\\packages\\sanddance.interactiveextension\\1.0.140\\interactive-extensions\\dotnet\\extension.dib`"
            ]
          },
          "metadata": {},
          "output_type": "display_data"
        },
        {
          "data": {
            "text/html": [
              "<details><summary>Explore data visually using the <a href=\"https://github.com/microsoft/SandDance\">SandDance Explorer</a>.</summary>\r\n",
              "    <p>This extension adds the ability to sort, filter, and visualize data using the <a href=\"https://github.com/microsoft/SandDance\">SandDance Explorer</a>. Use the <code>ExploreWithSandDance()</code> extension method with variables of type <code>JsonElement</code>, <code>IEnumerable<T></code> or <code>IDataView</code> to render the data explorer.</p>\r\n",
              "<pre>\r\n",
              "    <code>\r\n",
              "    using Microsoft.Data.Analysis;\r\n",
              "    using System.Collections.Generic;\r\n",
              "    using Microsoft.ML;\r\n",
              "\r\n",
              "    var dataFrame = DataFrame.LoadCsv(\"./Data.csv\");\r\n",
              "\r\n",
              "    dataFrame.ExploreWithSandDance().Display();\r\n",
              "    </code>\r\n",
              "</pre>\r\n",
              "<p>To set the SandDance Explorer use the following code</p>\r\n",
              "<pre>\r\n",
              "    <code>\r\n",
              "    DataExplorer.SetDefault<TabularDataResource, SandDanceDataExplorer>();\r\n",
              "    </code>\r\n",
              "</pre>\r\n",
              "    <img src=\"https://user-images.githubusercontent.com/11507384/54236654-52d42800-44d1-11e9-859e-6c5d297a46d2.gif\" width=\"30%\">\r\n",
              "    </details>"
            ]
          },
          "metadata": {},
          "output_type": "display_data"
        },
        {
          "data": {
            "text/markdown": [
              "Added support IDataView to kernel .NET."
            ]
          },
          "metadata": {},
          "output_type": "display_data"
        }
      ],
      "source": [
        "#r \"nuget:SandDance.InteractiveExtension\"\n",
        "#r \"nuget:DataView.InteractiveExtension\"\n",
        "#r \"nuget:Microsoft.ML.DataView\"\n",
        "#r \"nuget:Microsoft.Data.Analysis\""
      ]
    },
    {
      "cell_type": "code",
      "execution_count": null,
      "metadata": {
        "dotnet_interactive": {
          "language": "csharp"
        },
        "vscode": {
          "languageId": "polyglot-notebook"
        }
      },
      "outputs": [],
      "source": [
        "using System.IO;\n",
        "using System.Net.Http;\n",
        "\n",
        "var contents = await new HttpClient()\n",
        ".GetStringAsync(\"https://raw.githubusercontent.com/ageron/handson-ml2/master/datasets/housing/housing.csv\");"
      ]
    },
    {
      "cell_type": "code",
      "execution_count": null,
      "metadata": {
        "dotnet_interactive": {
          "language": "csharp"
        },
        "vscode": {
          "languageId": "polyglot-notebook"
        }
      },
      "outputs": [],
      "source": [
        "using Microsoft.Data.Analysis;\n",
        "using Microsoft.ML;\n",
        "using System.Collections.Generic;\n",
        "\n",
        "var housingData = DataFrame.LoadCsvFromString(contents);"
      ]
    },
    {
      "cell_type": "code",
      "execution_count": null,
      "metadata": {
        "dotnet_interactive": {
          "language": "csharp"
        },
        "vscode": {
          "languageId": "polyglot-notebook"
        }
      },
      "outputs": [],
      "source": [
        "housingData.ToTabularDataResource().ExploreWithSandDance().Display();"
      ]
    }
  ],
  "metadata": {
    "kernelspec": {
      "display_name": ".NET (C#)",
      "language": "C#",
      "name": ".net-csharp"
    },
    "language_info": {
      "file_extension": ".cs",
      "mimetype": "text/x-csharp",
      "name": "C#",
      "pygments_lexer": "csharp",
      "version": "8.0"
    },
    "polyglot_notebook": {
      "kernelInfo": {
        "defaultKernelName": "csharp",
        "items": [
          {
            "aliases": [],
            "name": "csharp"
          }
        ]
      }
    }
  },
  "nbformat": 4,
  "nbformat_minor": 4
}
