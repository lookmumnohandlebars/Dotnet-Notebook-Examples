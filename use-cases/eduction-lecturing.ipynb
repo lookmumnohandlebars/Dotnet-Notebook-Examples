{
 "cells": [
  {
   "cell_type": "markdown",
   "metadata": {},
   "source": [
    "# Example Lecture\n"
   ]
  },
  {
   "cell_type": "markdown",
   "metadata": {},
   "source": [
    "The below is an example of a real world talk I gave to junior engineers on how Tasks work and how to leverage co-routines for performance in C#\n",
    "\n",
    "---\n"
   ]
  },
  {
   "cell_type": "markdown",
   "metadata": {},
   "source": [
    "# Coroutines, Concurrency & Parallel Threads\n",
    "\n",
    "The worst phrase I have read in programming is _\"This programming language is slower than another programming language\"_. Most languages are fast enough. The faster, lower-level, languages give you a way to program faster, but it is much easier to write slower code if you are not careful.\n",
    "\n",
    "Asynchronous processes are the best and the worst of this! Many languages have their own way around async processes, some are easier than others. In Python you'll often find Celery; In TypeScript you'll find Promises (and so on...).\n",
    "\n",
    "In C#, we have Task-based asynchronicity - and a whole bunch of baggage to learn to make your code fast when using Tasks.\n"
   ]
  },
  {
   "cell_type": "markdown",
   "metadata": {},
   "source": [
    "## Preamble A - Tasks In C#\n",
    "\n",
    "Tasks are the API provided to us by C# to represent an asynchronous (non-linear) operation.\n",
    "\n",
    "In simple terms, where a synchronous method executes and we are forced to wait for its completion, with an asynchronous Task the execution happens on a seperate thread and we can continue executing our code on, only getting the result as and when we need it.\n"
   ]
  },
  {
   "cell_type": "markdown",
   "metadata": {},
   "source": [
    "Take the following Task which waits one second, prints a value, then returns it:\n"
   ]
  },
  {
   "cell_type": "code",
   "execution_count": null,
   "metadata": {
    "dotnet_interactive": {
     "language": "csharp"
    },
    "polyglot_notebook": {
     "kernelName": "csharp"
    },
    "vscode": {
     "languageId": "polyglot-notebook"
    }
   },
   "outputs": [],
   "source": [
    "public async Task<int> WaitOneSecondThenGimmeAValue(int value) {\n",
    "    var oneSecondInMilliseconds = 1000;\n",
    "    await Task.Delay(oneSecondInMilliseconds);\n",
    "    Console.WriteLine($\"Fine then... here's the value: {value}\");\n",
    "    return value;\n",
    "}"
   ]
  },
  {
   "cell_type": "markdown",
   "metadata": {},
   "source": [
    "We now have a number of ways to perform this task. The simplest way is to use the `await` keyword. When the await keyword is applied, it suspends the calling method and yields control back to its caller until the awaited task is complete - in otherwords we are **_forced_** to wait for the task to complete. On top of this, if a value is returned, we get the value back straight away!\n",
    "\n",
    "Under the hood, C# implements a Task Scheduler to ensure the operations and continuations happen in the right order - think we can all agree this sugar syntax is much nicer to handle.\n"
   ]
  },
  {
   "cell_type": "code",
   "execution_count": null,
   "metadata": {
    "dotnet_interactive": {
     "language": "csharp"
    },
    "polyglot_notebook": {
     "kernelName": "csharp"
    },
    "vscode": {
     "languageId": "polyglot-notebook"
    }
   },
   "outputs": [],
   "source": [
    "var preciousValue = await WaitOneSecondThenGimmeAValue(5);\n",
    "preciousValue.Display();"
   ]
  },
  {
   "cell_type": "markdown",
   "metadata": {},
   "source": [
    "To have the task execute without us waiting for it, we can simply call it without the `await` keyword. However, we don't get a value printed this time...\n"
   ]
  },
  {
   "cell_type": "code",
   "execution_count": null,
   "metadata": {
    "dotnet_interactive": {
     "language": "csharp"
    },
    "polyglot_notebook": {
     "kernelName": "csharp"
    },
    "vscode": {
     "languageId": "polyglot-notebook"
    }
   },
   "outputs": [],
   "source": [
    "var preciousTask = WaitOneSecondThenGimmeAValue(5);"
   ]
  },
  {
   "cell_type": "markdown",
   "metadata": {},
   "source": [
    "That's because the execution of the main thread finishes well before the Task (which takes time) - therefore there's no continuation.\n",
    "\n",
    "However if we give the task enough time to complete, it will execute in the background\n"
   ]
  },
  {
   "cell_type": "code",
   "execution_count": null,
   "metadata": {
    "dotnet_interactive": {
     "language": "csharp"
    },
    "polyglot_notebook": {
     "kernelName": "csharp"
    },
    "vscode": {
     "languageId": "polyglot-notebook"
    }
   },
   "outputs": [],
   "source": [
    "var preciousTask = WaitOneSecondThenGimmeAValue(5);\n",
    "await Task.Delay(1100);"
   ]
  },
  {
   "cell_type": "markdown",
   "metadata": {},
   "source": [
    "We can then retrieve the result at any time with `.Result`. However, for reasons amounting to deadlocking and dis-aggregated error messages, this should never be used. Instead we use the `.GetAwaiter().GetResult()` to get net nice error messaging and fewer deadlocks.\n",
    "\n",
    "Notice the time of execution is still 1.1s or so, proving the task happens at the same time as the current execution.\n"
   ]
  },
  {
   "cell_type": "code",
   "execution_count": null,
   "metadata": {
    "dotnet_interactive": {
     "language": "csharp"
    },
    "polyglot_notebook": {
     "kernelName": "csharp"
    },
    "vscode": {
     "languageId": "polyglot-notebook"
    }
   },
   "outputs": [],
   "source": [
    "var preciousTask = WaitOneSecondThenGimmeAValue(5);\n",
    "await Task.Delay(1100);\n",
    "preciousTask.GetAwaiter().GetResult().Display();"
   ]
  },
  {
   "cell_type": "markdown",
   "metadata": {},
   "source": [
    "Side Note: The `await` keyword really calls an extension method of `GetAwaiter` on the declared type - you can technically find a way to await any type!\n"
   ]
  },
  {
   "cell_type": "code",
   "execution_count": null,
   "metadata": {
    "dotnet_interactive": {
     "language": "csharp"
    },
    "polyglot_notebook": {
     "kernelName": "csharp"
    },
    "vscode": {
     "languageId": "polyglot-notebook"
    }
   },
   "outputs": [],
   "source": [
    "using System.Runtime.CompilerServices;\n",
    "using System.Threading.Tasks;\n",
    "\n",
    "public static TaskAwaiter<T[]> GetAwaiter<T>(this (Task<T>, Task<T>) tasksTuple) {\n",
    "    return Task.WhenAll<T>(tasksTuple.Item1, tasksTuple.Item2).GetAwaiter();\n",
    "}\n",
    "\n",
    "public static TaskAwaiter<string> GetAwaiter(this string stringToAwait) {\n",
    "    return Task.FromResult(stringToAwait).GetAwaiter();\n",
    "}\n",
    "\n",
    "public async Task WaitConcurrently() {\n",
    "    await (WaitOneSecondThenGimmeAValue(5), WaitOneSecondThenGimmeAValue(5));\n",
    "    await \"Hello World\";\n",
    "}\n",
    "\n",
    "await WaitConcurrently();"
   ]
  },
  {
   "cell_type": "markdown",
   "metadata": {},
   "source": [
    "## Pre-Amble B - Thread-Safe (or Concurrent) Collections\n",
    "\n",
    "Most collections are not thread safe - this means it is not safe to write to these collections concurrently. If you try to write to a `List` from two threads, you may end up with 2 threads competing for write access and you don't know which one will win.\n",
    "\n",
    "With the System.Collections.Concurrent collections, we have a way in the standard library of using collections, or data-structures, that are thread safe. They all do something slightly different to preserve thread-safety, but have some clever locking mechanisms somewhere between `SemaphoreSlim` and use of the `Interlocked` class (both of which you can use to try make your own thread safe collections)\n",
    "\n",
    "- `ConcurrentQueue` (preserves write order)\n",
    "- `ConcurrentBag` (doesnt preserve write order - also the fastest option)\n",
    "- `ConcurrentStack` (preserves write order, but LIFO)\n",
    "- `ConcurrentDictionary` (keyed values)\n"
   ]
  },
  {
   "cell_type": "code",
   "execution_count": null,
   "metadata": {
    "dotnet_interactive": {
     "language": "csharp"
    },
    "polyglot_notebook": {
     "kernelName": "csharp"
    },
    "vscode": {
     "languageId": "polyglot-notebook"
    }
   },
   "outputs": [],
   "source": [
    "using System.Collections.Concurrent;\n",
    "using System.Linq;\n",
    "\n",
    "var collection = new ConcurrentQueue<int>();\n",
    "collection.Enqueue(42);\n"
   ]
  },
  {
   "cell_type": "markdown",
   "metadata": {},
   "source": [
    "More recently the Channels library has become a fast, thread-safe way to read-write collections\n"
   ]
  },
  {
   "cell_type": "code",
   "execution_count": null,
   "metadata": {
    "dotnet_interactive": {
     "language": "csharp"
    },
    "polyglot_notebook": {
     "kernelName": "csharp"
    },
    "vscode": {
     "languageId": "polyglot-notebook"
    }
   },
   "outputs": [],
   "source": [
    "#r \"nuget: System.Threading.Channels\"\n",
    "using System.Threading.Channels;\n",
    "var channel = Channel.CreateUnbounded<int>();\n",
    "await channel.Writer.WriteAsync(42);\n",
    "await channel.Writer.WriteAsync(43);\n",
    "channel.Writer.Complete(); // You must complete the reading at some point\n",
    "await foreach (var item in channel.Reader.ReadAllAsync()) {\n",
    "    item.Display();\n",
    "}"
   ]
  },
  {
   "cell_type": "markdown",
   "metadata": {},
   "source": [
    "## Pre-Amble C - Options For Concurrent/Parallel Processing\n"
   ]
  },
  {
   "cell_type": "markdown",
   "metadata": {},
   "source": [
    "### Parallel Library\n"
   ]
  },
  {
   "cell_type": "code",
   "execution_count": null,
   "metadata": {
    "dotnet_interactive": {
     "language": "csharp"
    },
    "polyglot_notebook": {
     "kernelName": "csharp"
    },
    "vscode": {
     "languageId": "polyglot-notebook"
    }
   },
   "outputs": [],
   "source": [
    "\n",
    "var inputList = new List<int>() {1,2,3,4,5};\n",
    "var concurrentBag = new ConcurrentBag<string>();\n",
    "await Parallel.ForEachAsync(\n",
    "    inputList,\n",
    "    new ParallelOptions()\n",
    "    {\n",
    "        MaxDegreeOfParallelism = 10\n",
    "    },\n",
    "    (produced, ct) =>\n",
    "    {\n",
    "        concurrentBag.Add(produced.ToString());\n",
    "        return ValueTask.CompletedTask;\n",
    "    }\n",
    ");\n",
    "concurrentBag.ToList().Display()"
   ]
  },
  {
   "cell_type": "markdown",
   "metadata": {},
   "source": [
    "### Parallel Linq (PLinq)\n"
   ]
  },
  {
   "cell_type": "code",
   "execution_count": null,
   "metadata": {
    "dotnet_interactive": {
     "language": "csharp"
    },
    "polyglot_notebook": {
     "kernelName": "csharp"
    },
    "vscode": {
     "languageId": "polyglot-notebook"
    }
   },
   "outputs": [],
   "source": [
    "var list = new List<int>() {1,2,3,4,5}.AsParallel().Select(val => val.ToString());\n",
    "list.Display(); "
   ]
  },
  {
   "cell_type": "markdown",
   "metadata": {},
   "source": [
    "### Dataflow Library\n"
   ]
  },
  {
   "cell_type": "code",
   "execution_count": null,
   "metadata": {
    "dotnet_interactive": {
     "language": "csharp"
    },
    "polyglot_notebook": {
     "kernelName": "csharp"
    },
    "vscode": {
     "languageId": "polyglot-notebook"
    }
   },
   "outputs": [],
   "source": [
    "#r \"System.Threading.Tasks.Dataflow\"\n",
    "using System.Threading.Tasks.Dataflow;\n",
    "using System.Threading.Tasks;\n",
    "using System.Threading;\n",
    "\n",
    "\n",
    "var transformBlock = new TransformBlock<int, string>(\n",
    "    produced => produced.ToString(),\n",
    "    new ExecutionDataflowBlockOptions()\n",
    "    {\n",
    "        MaxDegreeOfParallelism = 10\n",
    "    }\n",
    ");\n",
    "var bufferBlock = new BufferBlock<string>();\n",
    "transformBlock.LinkTo(bufferBlock);\n",
    "\n",
    "foreach (var produced in new List<int>() {1,2,3,4,5})\n",
    "{\n",
    "    transformBlock.Post(produced);\n",
    "}\n",
    "\n",
    "transformBlock.Complete();\n",
    "await transformBlock.Completion.WaitAsync(CancellationToken.None);\n",
    "bufferBlock.Complete();\n",
    "bufferBlock.TryReceiveAll(out var output);\n",
    "output.Display();"
   ]
  },
  {
   "cell_type": "code",
   "execution_count": null,
   "metadata": {
    "dotnet_interactive": {
     "language": "csharp"
    },
    "polyglot_notebook": {
     "kernelName": "csharp"
    },
    "vscode": {
     "languageId": "polyglot-notebook"
    }
   },
   "outputs": [],
   "source": [
    "#r \"nuget: System.Reactive\"\n",
    "#r \"nuget: System.Reactive.Async, 6.0.0-alpha.18\"\n",
    "#r \"nuget: System.Linq.Async\"\n",
    "using System.Reactive;\n",
    "using System.Linq;\n",
    "using System.Reactive.Linq;\n",
    "\n",
    "var o = new List<int>() {1,2,3,4,5}.ToObservable();\n",
    "foreach (var resVal in o.Select(val => val.ToString())) {\n",
    "    resVal.Display();\n",
    "}\n",
    "\n",
    "// System.Reactive (& AsyncRx) has really, really poor docs and support - I wouldn't recommend using unless you really, really want to.\n"
   ]
  },
  {
   "cell_type": "markdown",
   "metadata": {},
   "source": [
    "---\n"
   ]
  },
  {
   "cell_type": "markdown",
   "metadata": {},
   "source": [
    "## Problem 1 - Processing asynchronous threads\n",
    "\n",
    "> We have an asynchronous process that takes a chunk of time to complete (let's say 1 second). We then need to take the result and perform some post processing to it. Furthermore we need to do this for many tasks (let's say 10) and return the processed results in a collection.\n",
    "\n",
    "How do we get this as fast as possible?\n"
   ]
  },
  {
   "cell_type": "code",
   "execution_count": null,
   "metadata": {
    "dotnet_interactive": {
     "language": "csharp"
    },
    "polyglot_notebook": {
     "kernelName": "csharp"
    },
    "vscode": {
     "languageId": "polyglot-notebook"
    }
   },
   "outputs": [],
   "source": [
    "public async Task<int> DoStuff(int value, bool debugOutput = true) {\n",
    "    var oneSecondInMilliseconds = 1000;\n",
    "    await Task.Delay(oneSecondInMilliseconds);\n",
    "    if (debugOutput) Console.WriteLine($\"Fine then... here's the value: {value}\");\n",
    "    return value;\n",
    "}\n",
    "\n",
    "public async Task<string> ProcessStuff(int value) {\n",
    "    return await Task.FromResult<string>((value + 1000).ToString());\n",
    "}"
   ]
  },
  {
   "cell_type": "markdown",
   "metadata": {},
   "source": [
    "### Solution A: Iterate\n",
    "\n",
    "We can await the tasks and perform the processing iteratively in a foreach loop\n"
   ]
  },
  {
   "cell_type": "code",
   "execution_count": null,
   "metadata": {
    "dotnet_interactive": {
     "language": "csharp"
    },
    "polyglot_notebook": {
     "kernelName": "csharp"
    },
    "vscode": {
     "languageId": "polyglot-notebook"
    }
   },
   "outputs": [
    {
     "name": "stdout",
     "output_type": "stream",
     "text": [
      "Fine then... here's the value: 1\n",
      "Fine then... here's the value: 2\n",
      "Fine then... here's the value: 3\n",
      "Fine then... here's the value: 4\n",
      "Fine then... here's the value: 5\n",
      "Fine then... here's the value: 6\n",
      "Fine then... here's the value: 7\n",
      "Fine then... here's the value: 8\n",
      "Fine then... here's the value: 9\n",
      "Fine then... here's the value: 10\n"
     ]
    },
    {
     "data": {
      "text/html": [
       "<div class=\"dni-plaintext\"><pre>[ 1001, 1002, 1003, 1004, 1005, 1006, 1007, 1008, 1009, 1010 ]</pre></div><style>\r\n",
       ".dni-code-hint {\r\n",
       "    font-style: italic;\r\n",
       "    overflow: hidden;\r\n",
       "    white-space: nowrap;\r\n",
       "}\r\n",
       ".dni-treeview {\r\n",
       "    white-space: nowrap;\r\n",
       "}\r\n",
       ".dni-treeview td {\r\n",
       "    vertical-align: top;\r\n",
       "    text-align: start;\r\n",
       "}\r\n",
       "details.dni-treeview {\r\n",
       "    padding-left: 1em;\r\n",
       "}\r\n",
       "table td {\r\n",
       "    text-align: start;\r\n",
       "}\r\n",
       "table tr { \r\n",
       "    vertical-align: top; \r\n",
       "    margin: 0em 0px;\r\n",
       "}\r\n",
       "table tr td pre \r\n",
       "{ \r\n",
       "    vertical-align: top !important; \r\n",
       "    margin: 0em 0px !important;\r\n",
       "} \r\n",
       "table th {\r\n",
       "    text-align: start;\r\n",
       "}\r\n",
       "</style>"
      ]
     },
     "metadata": {},
     "output_type": "display_data"
    }
   ],
   "source": [
    "\n",
    "var output = new List<string>();\n",
    "foreach (var value in Enumerable.Range(1,10)) \n",
    "{\n",
    "    var consumable = await DoStuff(value);\n",
    "    var processed = await ProcessStuff(consumable);\n",
    "    output.Add(processed);\n",
    "}\n",
    "output.Display()"
   ]
  },
  {
   "cell_type": "markdown",
   "metadata": {},
   "source": [
    "### Solution B - Iterate With Tasks\n",
    "\n",
    "We iterate but only over the task and await all tasks post-iteration\n"
   ]
  },
  {
   "cell_type": "code",
   "execution_count": null,
   "metadata": {
    "dotnet_interactive": {
     "language": "csharp"
    },
    "polyglot_notebook": {
     "kernelName": "csharp"
    },
    "vscode": {
     "languageId": "polyglot-notebook"
    }
   },
   "outputs": [],
   "source": [
    "var tasks = new List<Task<int>>();\n",
    "foreach (var value in Enumerable.Range(1,10)) \n",
    "{\n",
    "    tasks.Add(DoStuff(value)); // This presents a problem.... What is it?\n",
    "}\n",
    "var produced = await Task.WhenAll<int>(tasks);\n",
    "var processingTasks = new List<Task<string>>();\n",
    "foreach (var producedValue in produced) {\n",
    "    processingTasks.Add(ProcessStuff(producedValue));\n",
    "}\n",
    "var output = await Task.WhenAll<string>(processingTasks);\n",
    "output.Display(); // Order preserved"
   ]
  },
  {
   "cell_type": "markdown",
   "metadata": {},
   "source": [
    "### Solution C - Iterate With Channels\n",
    "\n",
    "Similar to Solution B but with Channels\n"
   ]
  },
  {
   "cell_type": "code",
   "execution_count": null,
   "metadata": {
    "dotnet_interactive": {
     "language": "csharp"
    },
    "polyglot_notebook": {
     "kernelName": "csharp"
    },
    "vscode": {
     "languageId": "polyglot-notebook"
    }
   },
   "outputs": [],
   "source": [
    "using System.Threading.Channels;\n",
    "var channel1 = Channel.CreateUnbounded<Task<int>>();\n",
    "foreach (var value in Enumerable.Range(1,10)) {\n",
    "    await channel1.Writer.WriteAsync(DoStuff(value));\n",
    "}\n",
    "var channel2 = Channel.CreateUnbounded<Task<string>>();\n",
    "await foreach (var value in channel.Reader.ReadAllAsync()) {\n",
    "    await channel2.Writer.WriteAsync(ProcessStuff(value));\n",
    "}\n",
    "channel1.Writer.Complete();\n",
    "(await Task.WhenAll(await channel2.Reader.ReadAsync())).Display();\n",
    "channel2.Writer.Complete();\n"
   ]
  },
  {
   "cell_type": "markdown",
   "metadata": {},
   "source": [
    "### Solution D - Parallel Linq\n",
    "\n",
    "We iterate in parallel using the Parallel Linq library.\n"
   ]
  },
  {
   "cell_type": "code",
   "execution_count": null,
   "metadata": {
    "dotnet_interactive": {
     "language": "csharp"
    },
    "polyglot_notebook": {
     "kernelName": "csharp"
    },
    "vscode": {
     "languageId": "polyglot-notebook"
    }
   },
   "outputs": [],
   "source": [
    "var output = new ConcurrentBag<string>();\n",
    "foreach (var value in Enumerable.Range(1,10).AsParallel().Select(val => DoStuff(val).GetAwaiter().GetResult())) \n",
    "{\n",
    "    var processed = await ProcessStuff(value);\n",
    "    output.Add(processed);\n",
    "}\n",
    "output.Display()"
   ]
  },
  {
   "cell_type": "markdown",
   "metadata": {},
   "source": [
    "## Solution E - Dataflow & Parallel\n"
   ]
  },
  {
   "cell_type": "code",
   "execution_count": null,
   "metadata": {
    "dotnet_interactive": {
     "language": "csharp"
    },
    "polyglot_notebook": {
     "kernelName": "csharp"
    },
    "vscode": {
     "languageId": "polyglot-notebook"
    }
   },
   "outputs": [
    {
     "name": "stdout",
     "output_type": "stream",
     "text": [
      "Fine then... here's the value: 3\n",
      "Fine then... here's the value: 9\n",
      "Fine then... here's the value: 2\n",
      "Fine then... here's the value: 1\n",
      "Fine then... here's the value: 0\n",
      "Fine then... here's the value: 6\n",
      "Fine then... here's the value: 4\n",
      "Fine then... here's the value: 7\n",
      "Fine then... here's the value: 8\n",
      "Fine then... here's the value: 5\n"
     ]
    },
    {
     "data": {
      "text/html": [
       "<div class=\"dni-plaintext\"><pre>[ 1009, 1002, 1001, 1000, 1006, 1004, 1007, 1008, 1005, 1003 ]</pre></div><style>\r\n",
       ".dni-code-hint {\r\n",
       "    font-style: italic;\r\n",
       "    overflow: hidden;\r\n",
       "    white-space: nowrap;\r\n",
       "}\r\n",
       ".dni-treeview {\r\n",
       "    white-space: nowrap;\r\n",
       "}\r\n",
       ".dni-treeview td {\r\n",
       "    vertical-align: top;\r\n",
       "    text-align: start;\r\n",
       "}\r\n",
       "details.dni-treeview {\r\n",
       "    padding-left: 1em;\r\n",
       "}\r\n",
       "table td {\r\n",
       "    text-align: start;\r\n",
       "}\r\n",
       "table tr { \r\n",
       "    vertical-align: top; \r\n",
       "    margin: 0em 0px;\r\n",
       "}\r\n",
       "table tr td pre \r\n",
       "{ \r\n",
       "    vertical-align: top !important; \r\n",
       "    margin: 0em 0px !important;\r\n",
       "} \r\n",
       "table th {\r\n",
       "    text-align: start;\r\n",
       "}\r\n",
       "</style>"
      ]
     },
     "metadata": {},
     "output_type": "display_data"
    }
   ],
   "source": [
    "using System.Threading.Tasks.Dataflow;\n",
    "using System.Threading.Tasks;\n",
    "using System.Threading;\n",
    "\n",
    "\n",
    "var transformBlock = new TransformBlock<int, string>(\n",
    "    async produced => await ProcessStuff(produced),\n",
    "    new ExecutionDataflowBlockOptions()\n",
    "    {\n",
    "        MaxDegreeOfParallelism = 10\n",
    "    }\n",
    ");\n",
    "var bufferBlock = new BufferBlock<string>();\n",
    "transformBlock.LinkTo(bufferBlock);\n",
    "\n",
    "await Parallel.ForEachAsync(\n",
    "    Enumerable.Range(0, 10),\n",
    "    new ParallelOptions()\n",
    "    {\n",
    "        MaxDegreeOfParallelism = 10\n",
    "    },\n",
    "    async (produced, ct) =>\n",
    "    {\n",
    "        transformBlock.Post(await DoStuff(produced));\n",
    "    }\n",
    ");\n",
    "\n",
    "transformBlock.Complete();\n",
    "await transformBlock.Completion.WaitAsync(CancellationToken.None);\n",
    "bufferBlock.Complete();\n",
    "bufferBlock.TryReceiveAll(out var output);\n",
    "output.Display()"
   ]
  },
  {
   "cell_type": "markdown",
   "metadata": {},
   "source": [
    "## Solution F - Parallel\n"
   ]
  },
  {
   "cell_type": "code",
   "execution_count": null,
   "metadata": {
    "dotnet_interactive": {
     "language": "csharp"
    },
    "polyglot_notebook": {
     "kernelName": "csharp"
    },
    "vscode": {
     "languageId": "polyglot-notebook"
    }
   },
   "outputs": [
    {
     "data": {
      "text/html": [
       "<div class=\"dni-plaintext\"><pre>[ 1001, 1002, 1003, 1009, 1008, 1007, 1006, 1005, 1004, 1000 ]</pre></div><style>\r\n",
       ".dni-code-hint {\r\n",
       "    font-style: italic;\r\n",
       "    overflow: hidden;\r\n",
       "    white-space: nowrap;\r\n",
       "}\r\n",
       ".dni-treeview {\r\n",
       "    white-space: nowrap;\r\n",
       "}\r\n",
       ".dni-treeview td {\r\n",
       "    vertical-align: top;\r\n",
       "    text-align: start;\r\n",
       "}\r\n",
       "details.dni-treeview {\r\n",
       "    padding-left: 1em;\r\n",
       "}\r\n",
       "table td {\r\n",
       "    text-align: start;\r\n",
       "}\r\n",
       "table tr { \r\n",
       "    vertical-align: top; \r\n",
       "    margin: 0em 0px;\r\n",
       "}\r\n",
       "table tr td pre \r\n",
       "{ \r\n",
       "    vertical-align: top !important; \r\n",
       "    margin: 0em 0px !important;\r\n",
       "} \r\n",
       "table th {\r\n",
       "    text-align: start;\r\n",
       "}\r\n",
       "</style>"
      ]
     },
     "metadata": {},
     "output_type": "display_data"
    }
   ],
   "source": [
    "var concurrentBag = new ConcurrentBag<string>();\n",
    "await Parallel.ForEachAsync(\n",
    "    Enumerable.Range(0, 10),\n",
    "    new ParallelOptions()\n",
    "    {\n",
    "        MaxDegreeOfParallelism = 10\n",
    "    },\n",
    "    async (produced, ct) =>\n",
    "    {\n",
    "        concurrentBag.Add(await ProcessStuff(produced));\n",
    "    }\n",
    ");\n",
    "concurrentBag.Display();"
   ]
  },
  {
   "cell_type": "markdown",
   "metadata": {},
   "source": [
    "## Mid-Amble - Coroutines\n",
    "\n",
    "![image.png](attachment:image.png)\n"
   ]
  },
  {
   "cell_type": "markdown",
   "metadata": {},
   "source": [
    "---\n",
    "\n",
    "## Problem 2 - Real World Paginated API calls\n",
    "\n",
    "Imagine you make a GET request to a paginated API that includes `?pagenum=x&pagecount=y`. You want to read all pages, take each response and process all of them as quick as possible. Which solution do you use?\n",
    "\n",
    "Lets assume we get we get an easy way in the response to tell what the next page is...\n"
   ]
  }
 ],
 "metadata": {
  "kernelspec": {
   "display_name": ".NET (C#)",
   "language": "C#",
   "name": ".net-csharp"
  },
  "language_info": {
   "name": "python"
  },
  "polyglot_notebook": {
   "kernelInfo": {
    "defaultKernelName": "csharp",
    "items": [
     {
      "aliases": [],
      "name": "csharp"
     }
    ]
   }
  }
 },
 "nbformat": 4,
 "nbformat_minor": 2
}
