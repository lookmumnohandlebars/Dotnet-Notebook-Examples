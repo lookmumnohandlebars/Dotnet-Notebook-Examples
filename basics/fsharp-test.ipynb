{
 "cells": [
  {
   "cell_type": "code",
   "execution_count": 14,
   "metadata": {
    "dotnet_interactive": {
     "language": "fsharp"
    },
    "polyglot_notebook": {
     "kernelName": "fsharp"
    },
    "vscode": {
     "languageId": "polyglot-notebook"
    }
   },
   "outputs": [
    {
     "name": "stdout",
     "output_type": "stream",
     "text": [
      "Items: [\"only-regal\"; \"only-local\"]"
     ]
    }
   ],
   "source": [
    "let mutable ignoreTags:List<string> = [\"only-local\"]\n",
    "let isMasterBranch = true\n",
    "let ignoreTagsForBuild = match isMasterBranch with\n",
    "                            | true -> ignoreTags |> List.append [\"only-regal\"] \n",
    "                            | false -> ignoreTags\n",
    "\n",
    "printf \"Items: %A\" ignoreTagsForBuild"
   ]
  },
  {
   "cell_type": "code",
   "execution_count": null,
   "metadata": {
    "dotnet_interactive": {
     "language": "fsharp"
    },
    "polyglot_notebook": {
     "kernelName": "fsharp"
    },
    "vscode": {
     "languageId": "polyglot-notebook"
    }
   },
   "outputs": [],
   "source": [
    "let mutable ignoreTags = [\"only-local\"]\n",
    "    match isS3IntegrationBuild with\n",
    "                        | true -> \n",
    "                            ignoreTags = ignoreTags |> List.append [\"integration\"]\n",
    "                            match isPostgresIntegrationBuild with\n",
    "                                    | true -> ignoreTags = ignoreTags |> List.append [\"sql-server-integration\"]\n",
    "                                    | false -> ()\n",
    "                        | false -> ignoreTags = ignoreTags |> List.append [\"integration\"]"
   ]
  }
 ],
 "metadata": {
  "kernelspec": {
   "display_name": ".NET (C#)",
   "language": "C#",
   "name": ".net-csharp"
  },
  "language_info": {
   "name": "python"
  },
  "polyglot_notebook": {
   "kernelInfo": {
    "defaultKernelName": "csharp",
    "items": [
     {
      "aliases": [],
      "name": "csharp"
     }
    ]
   }
  }
 },
 "nbformat": 4,
 "nbformat_minor": 2
}
